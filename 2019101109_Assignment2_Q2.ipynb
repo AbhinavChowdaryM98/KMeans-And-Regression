{
  "cells": [
    {
      "cell_type": "markdown",
      "id": "improving-pepper",
      "metadata": {
        "id": "improving-pepper"
      },
      "source": [
        "# Assignment 2 - Question 2\n",
        "The objective of this assignment is to get you familiarize with  the  problem  of  `Linear Regression`.\n",
        "\n",
        "## Instructions\n",
        "- Write your code and analysis in the indicated cells.\n",
        "- Ensure that this notebook runs without errors when the cells are run in sequence.\n",
        "- Do not attempt to change the contents of other cells.\n",
        "- No inbuilt functions to be used until specified\n",
        "\n",
        "## Submission\n",
        "- Ensure that this notebook runs without errors when the cells are run in sequence.\n",
        "- Rename the notebook to `<roll_number>_Assignment2_Q2.ipynb`."
      ]
    },
    {
      "cell_type": "markdown",
      "id": "final-transaction",
      "metadata": {
        "id": "final-transaction"
      },
      "source": [
        "## 2.0 Background about the dataset\n",
        "\n",
        "TLDR: You have 4 independent variables (`float`) for each molecule. You can use a linear combination of these 4 independent variables to predict the bandgap (dependent variable) of each molecule.\n",
        "\n",
        "You can read more about the problem in [Li et al, Bandgap tuning strategy by cations and halide ions of lead halide perovskites learned from machine learning, RSC Adv., 2021,11, 15688-15694](https://doi.org/10.1039/D1RA03117A)."
      ]
    },
    {
      "cell_type": "code",
      "execution_count": 1,
      "id": "lyric-olympus",
      "metadata": {
        "id": "lyric-olympus"
      },
      "outputs": [],
      "source": [
        "import csv\n",
        "import random\n",
        "import numpy as np"
      ]
    },
    {
      "cell_type": "code",
      "execution_count": 2,
      "id": "hundred-receipt",
      "metadata": {
        "id": "hundred-receipt"
      },
      "outputs": [],
      "source": [
        "all_molecules = list()\n",
        "\n",
        "with open('bg_data.txt', 'r') as infile:\n",
        "    input_rows = csv.DictReader(infile)\n",
        "    \n",
        "    for row in input_rows:\n",
        "        current_mol = ([float(row['Cs']), float(row['FA']), float(row['Cl']), float(row['Br'])], float(row['Bandgap']))\n",
        "        all_molecules.append(current_mol)\n",
        "\n",
        "random.shuffle(all_molecules)\n",
        "\n",
        "\n",
        "num_train = int(len(all_molecules) * 0.8)\n",
        "\n",
        "# each point in x_train has 4 values - 1 for each feature\n",
        "x_train = [x[0] for x in all_molecules[:num_train]]\n",
        "# each point in y_train has 1 value - the bandgap of the molecule\n",
        "y_train = np.array([x[1] for x in all_molecules[:num_train]])\n",
        "\n",
        "x_test = [x[0] for x in all_molecules[num_train:]]\n",
        "y_test = np.array([x[1] for x in all_molecules[num_train:]])"
      ]
    },
    {
      "cell_type": "code",
      "execution_count": 3,
      "id": "44Lr_DcjWurc",
      "metadata": {
        "id": "44Lr_DcjWurc"
      },
      "outputs": [],
      "source": [
        "for i in range(len(x_train)):\n",
        "  x_train[i].append(1)\n",
        "for i in range(len(x_test)):\n",
        "  x_test[i].append(1)\n",
        "x_test = np.array(x_test)\n",
        "x_train = np.array(x_train)"
      ]
    },
    {
      "cell_type": "markdown",
      "id": "square-direction",
      "metadata": {
        "id": "square-direction"
      },
      "source": [
        "### 2.1 Implement a Linear Regression model that minimizes the MSE **without using any libraries**. You may use NumPy to vectorize your code, but *do not use numpy.polyfit* or anything similar.\n",
        "\n",
        "2.1.1 Explain how you plan to implement Linear Regression in 5-10 lines.\n",
        "\n"
      ]
    },
    {
      "cell_type": "markdown",
      "id": "mm0npgt-vo27",
      "metadata": {
        "id": "mm0npgt-vo27"
      },
      "source": [
        "Using a random w initially and a random learning rate. Cost function defined J(w) = (1/2m)Σ((y_pred - y_train)^2). Updating to new w with every itteration using following equation,\\\n",
        "**w_new = w - (learning rate)(J'(w))**\\\n",
        "Learning rate should be decided optimally by observing the data. Lower learning rates may take so much computation to reach the minima. Conversely if the learning rate was too high this may make the w_new calculation too volatile moving away from the minima in every itteration."
      ]
    },
    {
      "cell_type": "markdown",
      "id": "frozen-forth",
      "metadata": {
        "id": "frozen-forth"
      },
      "source": [
        "<!-- your answer to 1.1.1 -->"
      ]
    },
    {
      "cell_type": "markdown",
      "id": "addressed-winter",
      "metadata": {
        "id": "addressed-winter"
      },
      "source": [
        "2.1.2 Implement Linear Regression using `x_train` and `y_train` as the train dataset.\n",
        "\n",
        "2.1.2.1 Choose the best learning rate and print the learning rate for which you achieved the best MSE."
      ]
    },
    {
      "cell_type": "code",
      "execution_count": 4,
      "id": "angry-depression",
      "metadata": {
        "id": "angry-depression"
      },
      "outputs": [],
      "source": [
        "# implement Linear Regression\n",
        "def Cost_function(w_tmp):\n",
        "  y_pred = []\n",
        "  for i in range(len(x_train)):\n",
        "    y_pred.append(np.array(x_train[i]).dot(w_tmp))\n",
        "  y_pred = np.array(y_pred)\n",
        "  y_pred = y_pred - y_train\n",
        "  y_pred = y_pred**2\n",
        "  return (np.sum(y_pred))/(2*len(x_train))\n",
        "\n",
        "def differ(w_tmp):\n",
        "  y_pred = []\n",
        "  for i in range(len(x_train)):\n",
        "    x_tmp = x_train[i]\n",
        "    y_pred.append(np.array(x_tmp).dot(w_tmp))\n",
        "  y_pred = np.array(y_pred)\n",
        "  y_pred = y_pred - y_train\n",
        "  tmp = []\n",
        "  for i in range(len(x_train)):\n",
        "    tmp.append(list(x_train[i] * y_pred[i]))\n",
        "  tmp = np.array(tmp)\n",
        "  tmp = np.add.reduce(tmp)\n",
        "  return (tmp/len(x_train))\n",
        "\n",
        "w = np.array([random.random() for i in range(5)])\n",
        "l = 0.1\n",
        "cost = []\n",
        "w_new = []\n",
        "w_new.append(list(np.array(w) - l*differ(w)))\n",
        "for i in range(300):\n",
        "  cost.append(Cost_function(np.array(w_new[-1])))\n",
        "  w_new.append(list(np.array(w_new[-1]) - l*differ(w_new[-1])))"
      ]
    },
    {
      "cell_type": "code",
      "execution_count": 5,
      "id": "R4i6pCRQo03e",
      "metadata": {
        "colab": {
          "base_uri": "https://localhost:8080/",
          "height": 282
        },
        "id": "R4i6pCRQo03e",
        "outputId": "23d910ac-f2f5-4ac9-c75e-810f7a2a7ffe"
      },
      "outputs": [
        {
          "output_type": "execute_result",
          "data": {
            "text/plain": [
              "[<matplotlib.lines.Line2D at 0x7fda642dc550>]"
            ]
          },
          "metadata": {},
          "execution_count": 5
        },
        {
          "output_type": "display_data",
          "data": {
            "image/png": "[encoded data removed]",
            "text/plain": [
              "<Figure size 432x288 with 1 Axes>"
            ]
          },
          "metadata": {
            "needs_background": "light"
          }
        }
      ],
      "source": [
        "import matplotlib.pyplot as plt\n",
        "plt.plot([i for i in range(1, 301)], cost)"
      ]
    },
    {
      "cell_type": "markdown",
      "id": "angry-tampa",
      "metadata": {
        "id": "angry-tampa"
      },
      "source": [
        "2.1.3 Make a [Parity Plot](https://en.wikipedia.org/wiki/Parity_plot) of your model's bandgap predictions on the test set with the actual values."
      ]
    },
    {
      "cell_type": "code",
      "execution_count": 6,
      "id": "foster-center",
      "metadata": {
        "colab": {
          "base_uri": "https://localhost:8080/",
          "height": 636
        },
        "id": "foster-center",
        "outputId": "e3dd7b3a-9667-4e0b-d11e-a79b977fd24f"
      },
      "outputs": [
        {
          "output_type": "display_data",
          "data": {
            "image/png": "[encoded data removed]",
            "text/plain": [
              "<Figure size 720x1440 with 1 Axes>"
            ]
          },
          "metadata": {
            "needs_background": "light"
          }
        }
      ],
      "source": [
        "# Get the predictions of x_test into `y_pred`\n",
        "\n",
        "#\n",
        "# ...\n",
        "#\n",
        "\n",
        "fig, ax = plt.subplots(figsize=(10,20))\n",
        "y_pred = list()\n",
        "for i in range(len(x_test)):\n",
        "  y_pred.append(np.array(x_test[i]).dot(w_new[-1]))\n",
        "ax.scatter(y_test, y_pred)\n",
        "\n",
        "lims = [\n",
        "    np.min([ax.get_xlim(), ax.get_ylim()]),\n",
        "    np.max([ax.get_xlim(), ax.get_ylim()]),\n",
        "]\n",
        "ax.plot(lims, lims, 'k-', alpha=0.75, zorder=0)\n",
        "ax.set_aspect('equal')\n",
        "ax.set_xlim(lims)\n",
        "ax.set_ylim(lims)\n",
        "\n",
        "ax.set_title('Parity Plot of Custom Linear Regression')\n",
        "ax.set_xlabel('Ground truth bandgap values')\n",
        "ax.set_ylabel('Predicted bandgap values')\n",
        "plt.show()"
      ]
    },
    {
      "cell_type": "markdown",
      "id": "dominant-chaos",
      "metadata": {
        "id": "dominant-chaos"
      },
      "source": [
        "### 2.2 Implement Ridge regression\n",
        "2.2.1 Explain Ridge regression briefly in 1-2 lines."
      ]
    },
    {
      "cell_type": "markdown",
      "id": "happy-cyprus",
      "metadata": {
        "id": "happy-cyprus"
      },
      "source": [
        "<!-- Your answer to 1.2.1 -->\n",
        "\n",
        "Ridge regression is a method for estimating the co-efficients of multiple regression models where linearly independent variables are highly correlated to each other."
      ]
    },
    {
      "cell_type": "markdown",
      "id": "tight-forwarding",
      "metadata": {
        "id": "tight-forwarding"
      },
      "source": [
        "2.2.2 Implement Ridge regression and make a table of different RMSE scores you achieved with different values of alpha. What does the parameter `alpha` do? How does it affect the results here? Explain in 5-10 lines in total. (You can use scikit-learn from this cell onwards)"
      ]
    },
    {
      "cell_type": "code",
      "execution_count": 7,
      "id": "7ftpCq3OEYes",
      "metadata": {
        "id": "7ftpCq3OEYes"
      },
      "outputs": [],
      "source": [
        "def Cost_function2(y_pred):\n",
        "  y_pred = np.array(y_pred)\n",
        "  y_pred = y_pred - y_test\n",
        "  tmp = np.square(y_pred)\n",
        "  return np.sum(tmp)/2*len(y_pred)"
      ]
    },
    {
      "cell_type": "code",
      "execution_count": 8,
      "id": "violent-northern",
      "metadata": {
        "id": "violent-northern"
      },
      "outputs": [],
      "source": [
        "# you should not have imported sklearn before this point\n",
        "import sklearn\n",
        "from sklearn.linear_model import Ridge\n",
        "ridge_cost = []\n",
        "ridge_score = []\n",
        "x = [float(i/10) for i in range(1, 11)]\n",
        "for i in range(1, 11):\n",
        "  clf = Ridge(alpha=float(i/10))\n",
        "  clf.fit(x_train, y_train)\n",
        "  y_predict = clf.predict(x_test)\n",
        "  #for i in range(len(x_test)):\n",
        "    #y_pred.append(clf.predict(x_test[i]))\n",
        "  ridge_cost.append(Cost_function2(y_predict))\n",
        "  #print(ridge_cost)\n",
        "  ridge_score.append(clf.score(x_test, y_test))\n",
        "#plt.plot(x,ridge_cost)\n",
        "#plt.plot(x,ridge_score)\n",
        "# implement Ridge regression and make a table where you explore the effect of different values of `alpha`"
      ]
    },
    {
      "cell_type": "code",
      "execution_count": 10,
      "id": "068f86d4",
      "metadata": {
        "colab": {
          "base_uri": "https://localhost:8080/"
        },
        "id": "068f86d4",
        "outputId": "70cf091f-32ca-43c1-93d6-5ccea9a3298c"
      },
      "outputs": [
        {
          "output_type": "stream",
          "name": "stdout",
          "text": [
            "  Alpha     Cost\n",
            "-------  -------\n",
            "    0.1  1.24604\n",
            "    0.2  1.32927\n",
            "    0.3  1.42118\n",
            "    0.4  1.52055\n",
            "    0.5  1.62632\n",
            "    0.6  1.73756\n",
            "    0.7  1.85348\n",
            "    0.8  1.97337\n",
            "    0.9  2.09662\n",
            "    1    2.2227\n"
          ]
        }
      ],
      "source": [
        "from tabulate import tabulate\n",
        "ridge_table = [((i+1)/10, ridge_cost[i]) for i in range(10)]\n",
        "print(tabulate(ridge_table, headers=[\"Alpha\", \"Cost\"]))"
      ]
    },
    {
      "cell_type": "code",
      "execution_count": 11,
      "id": "WPSGZToQJf6E",
      "metadata": {
        "colab": {
          "base_uri": "https://localhost:8080/",
          "height": 296
        },
        "id": "WPSGZToQJf6E",
        "outputId": "e02071bf-8afd-4b90-9879-a201025c96d4"
      },
      "outputs": [
        {
          "output_type": "execute_result",
          "data": {
            "text/plain": [
              "Text(0, 0.5, 'Cost')"
            ]
          },
          "metadata": {},
          "execution_count": 11
        },
        {
          "output_type": "display_data",
          "data": {
            "image/png": "[encoded data removed]",
            "text/plain": [
              "<Figure size 432x288 with 1 Axes>"
            ]
          },
          "metadata": {
            "needs_background": "light"
          }
        }
      ],
      "source": [
        "plt.plot(x,ridge_cost)\n",
        "plt.xlabel('Alpha Value')\n",
        "plt.ylabel('Cost')"
      ]
    },
    {
      "cell_type": "code",
      "execution_count": 12,
      "id": "TfSC56b0Jjcr",
      "metadata": {
        "colab": {
          "base_uri": "https://localhost:8080/",
          "height": 296
        },
        "id": "TfSC56b0Jjcr",
        "outputId": "2be92533-988d-44f3-c233-ee8040cb49af"
      },
      "outputs": [
        {
          "output_type": "execute_result",
          "data": {
            "text/plain": [
              "Text(0, 0.5, 'Score')"
            ]
          },
          "metadata": {},
          "execution_count": 12
        },
        {
          "output_type": "display_data",
          "data": {
            "image/png": "[encoded data removed]",
            "text/plain": [
              "<Figure size 432x288 with 1 Axes>"
            ]
          },
          "metadata": {
            "needs_background": "light"
          }
        }
      ],
      "source": [
        "plt.plot(x,ridge_score)\n",
        "plt.xlabel('Alpha Value')\n",
        "plt.ylabel('Score')"
      ]
    },
    {
      "cell_type": "markdown",
      "id": "adolescent-temperature",
      "metadata": {
        "id": "adolescent-temperature"
      },
      "source": [
        "### 2.3 Implement Lasso regression\n",
        "2.3.1 Explain Lasso regression briefly in 1-2 lines."
      ]
    },
    {
      "cell_type": "markdown",
      "id": "4jek1oCHwjGj",
      "metadata": {
        "id": "4jek1oCHwjGj"
      },
      "source": [
        "Lasso is so similar to ridge whereas uses shrinkage. Shrinkage is process where the values are shrunk towards a central point like mean. For example ridge considers every linearly independent variable even with very small values ( ~ 0). Where as lasso smothens these by shrunking them to 0."
      ]
    },
    {
      "cell_type": "markdown",
      "id": "popular-wonder",
      "metadata": {
        "id": "popular-wonder"
      },
      "source": [
        "2.3.2 Implement Lasso regression and make a table of different RMSE scores you achieved with different values of alpha. What does the parameter `alpha` do? How does it affect the results here? Explain in 5-10 lines in total."
      ]
    },
    {
      "cell_type": "markdown",
      "id": "Jz5jgRBxxLxw",
      "metadata": {
        "id": "Jz5jgRBxxLxw"
      },
      "source": [
        ""
      ]
    },
    {
      "cell_type": "code",
      "execution_count": null,
      "id": "extra-brighton",
      "metadata": {
        "id": "extra-brighton"
      },
      "outputs": [],
      "source": [
        "# implement Lasso regression and make a table where you explore the effect of different values of `alpha`"
      ]
    },
    {
      "cell_type": "code",
      "execution_count": 13,
      "id": "accompanied-worst",
      "metadata": {
        "colab": {
          "base_uri": "https://localhost:8080/"
        },
        "id": "accompanied-worst",
        "outputId": "62512bd9-df38-4147-a8eb-c686f51514d2"
      },
      "outputs": [
        {
          "output_type": "stream",
          "name": "stderr",
          "text": [
            "/usr/local/lib/python3.7/dist-packages/ipykernel_launcher.py:6: UserWarning: With alpha=0, this algorithm does not converge well. You are advised to use the LinearRegression estimator\n",
            "  \n",
            "/usr/local/lib/python3.7/dist-packages/sklearn/linear_model/_coordinate_descent.py:648: UserWarning: Coordinate descent with no regularization may lead to unexpected results and is discouraged.\n",
            "  coef_, l1_reg, l2_reg, X, y, max_iter, tol, rng, random, positive\n",
            "/usr/local/lib/python3.7/dist-packages/sklearn/linear_model/_coordinate_descent.py:648: ConvergenceWarning: Objective did not converge. You might want to increase the number of iterations, check the scale of the features or consider increasing regularisation. Duality gap: 2.505e-01, tolerance: 1.888e-03 Linear regression models with null weight for the l1 regularization term are more efficiently fitted using one of the solvers implemented in sklearn.linear_model.Ridge/RidgeCV instead.\n",
            "  coef_, l1_reg, l2_reg, X, y, max_iter, tol, rng, random, positive\n"
          ]
        }
      ],
      "source": [
        "from sklearn.linear_model import Lasso\n",
        "lasso_score = []\n",
        "lasso_cost = []\n",
        "for i in range(20):\n",
        "  lasso_function = Lasso(alpha=(i/200))\n",
        "  lasso_function.fit(x_train,y_train)\n",
        "  y_predict = lasso_function.predict(x_test)\n",
        "  lasso_cost.append(Cost_function2(y_predict))\n",
        "  #print(cost)\n",
        "  lasso_score.append(lasso_function.score(x_test, y_test))\n"
      ]
    },
    {
      "cell_type": "code",
      "source": [
        "from tabulate import tabulate\n",
        "lasso_table = [((i+1)/200, lasso_cost[i]) for i in range(20)]\n",
        "print(tabulate(lasso_table, headers=[\"Alpha\", \"Cost\"]))"
      ],
      "metadata": {
        "colab": {
          "base_uri": "https://localhost:8080/"
        },
        "id": "srb86txlUzXj",
        "outputId": "9aebfbb1-6356-4151-c5a6-8a930687ab55"
      },
      "id": "srb86txlUzXj",
      "execution_count": 17,
      "outputs": [
        {
          "output_type": "stream",
          "name": "stdout",
          "text": [
            "  Alpha      Cost\n",
            "-------  --------\n",
            "  0.005   1.1729\n",
            "  0.01    1.57285\n",
            "  0.015   2.24559\n",
            "  0.02    3.21283\n",
            "  0.025   4.47458\n",
            "  0.03    6.03083\n",
            "  0.035   7.88158\n",
            "  0.04   10.0268\n",
            "  0.045  12.4666\n",
            "  0.05   15.2009\n",
            "  0.055  16.9564\n",
            "  0.06   18.2967\n",
            "  0.065  19.7311\n",
            "  0.07   21.2597\n",
            "  0.075  22.8824\n",
            "  0.08   24.5992\n",
            "  0.085  26.4102\n",
            "  0.09   27.9594\n",
            "  0.095  29.472\n",
            "  0.1    31.0378\n"
          ]
        }
      ]
    },
    {
      "cell_type": "code",
      "execution_count": null,
      "id": "_BT2zsQVsOXY",
      "metadata": {
        "colab": {
          "base_uri": "https://localhost:8080/",
          "height": 296
        },
        "id": "_BT2zsQVsOXY",
        "outputId": "b77d446e-353e-41a9-8c78-ff11b370e481"
      },
      "outputs": [
        {
          "data": {
            "text/plain": [
              "Text(0, 0.5, 'Cost')"
            ]
          },
          "execution_count": 19,
          "metadata": {},
          "output_type": "execute_result"
        },
        {
          "data": {
            "image/png": "[encoded data removed]",
            "text/plain": [
              "<Figure size 432x288 with 1 Axes>"
            ]
          },
          "metadata": {
            "needs_background": "light"
          },
          "output_type": "display_data"
        }
      ],
      "source": [
        "plt.plot([(i+1)/200 for i in range(len(lasso_cost))],lasso_cost)\n",
        "plt.xlabel('Alpha Value')\n",
        "plt.ylabel('Cost')"
      ]
    },
    {
      "cell_type": "code",
      "execution_count": null,
      "id": "5kBE9fm8sltK",
      "metadata": {
        "colab": {
          "base_uri": "https://localhost:8080/",
          "height": 296
        },
        "id": "5kBE9fm8sltK",
        "outputId": "9f83dc72-0cfc-46c3-ca23-4faba802e755"
      },
      "outputs": [
        {
          "data": {
            "text/plain": [
              "Text(0, 0.5, 'Score')"
            ]
          },
          "execution_count": 21,
          "metadata": {},
          "output_type": "execute_result"
        },
        {
          "data": {
            "image/png": "[encoded data removed]",
            "text/plain": [
              "<Figure size 432x288 with 1 Axes>"
            ]
          },
          "metadata": {
            "needs_background": "light"
          },
          "output_type": "display_data"
        }
      ],
      "source": [
        "plt.plot([(i+1)/200 for i in range(len(lasso_score))],lasso_score)\n",
        "plt.xlabel('Alpha Value')\n",
        "plt.ylabel('Score')"
      ]
    }
  ],
  "metadata": {
    "colab": {
      "name": "2019101109_Assignment2_Q2.ipynb",
      "provenance": []
    },
    "kernelspec": {
      "display_name": "Python 3",
      "language": "python",
      "name": "python3"
    },
    "language_info": {
      "codemirror_mode": {
        "name": "ipython",
        "version": 3
      },
      "file_extension": ".py",
      "mimetype": "text/x-python",
      "name": "python",
      "nbconvert_exporter": "python",
      "pygments_lexer": "ipython3",
      "version": "3.8.5"
    }
  },
  "nbformat": 4,
  "nbformat_minor": 5
}