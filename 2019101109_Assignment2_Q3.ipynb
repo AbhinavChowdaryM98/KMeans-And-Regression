{
  "cells": [
    {
      "cell_type": "markdown",
      "id": "timely-inspection",
      "metadata": {
        "id": "timely-inspection"
      },
      "source": [
        "# Assignment 2 - Question 3\n",
        "The objective of this assignment is to get you familiarize with  the  problem  of  `Dimensionality Reduction`.\n",
        "\n",
        "## Instructions\n",
        "- Write your code and analysis in the indicated cells.\n",
        "- Ensure that this notebook runs without errors when the cells are run in sequence.\n",
        "- Do not attempt to change the contents of other cells.\n",
        "- No inbuilt functions to be used until specified. Libraries allowed (Numpy, matplotlib)\n",
        "\n",
        "## Datasets \n",
        "- The IIIT-CFW is database for the cartoon faces in the wild. The dataset contains 8928 annotated cartoon faces of famous personalities of the world with varying profession. Additional 1000 real faces of the public figure to study cross modal retrieval tasks, such as, Photo2Cartoon retrieval. Ref - https://cvit.iiit.ac.in/research/projects/cvit-projects/cartoonfaces\n",
        "- We have sub sampled the following data for this assignment - Cartoon faces of 8 subjects and approx. 100 images for each subject. \n",
        "\n",
        "## Submission\n",
        "- Ensure that this notebook runs without errors when the cells are run in sequence.\n",
        "- Rename the notebook to `<roll_number>_Assignment2_Q3.ipynb`."
      ]
    },
    {
      "cell_type": "code",
      "execution_count": 1,
      "id": "israeli-convergence",
      "metadata": {
        "colab": {
          "base_uri": "https://localhost:8080/"
        },
        "id": "israeli-convergence",
        "outputId": "3694b68a-6cd5-4c72-cbad-91783c8bd2cd"
      },
      "outputs": [
        {
          "output_type": "stream",
          "name": "stdout",
          "text": [
            "Requirement already satisfied: scikit-learn in /usr/local/lib/python3.7/dist-packages (1.0.2)\n",
            "Requirement already satisfied: matplotlib in /usr/local/lib/python3.7/dist-packages (3.2.2)\n",
            "Requirement already satisfied: Pillow in /usr/local/lib/python3.7/dist-packages (7.1.2)\n",
            "Requirement already satisfied: numpy>=1.14.6 in /usr/local/lib/python3.7/dist-packages (from scikit-learn) (1.21.5)\n",
            "Requirement already satisfied: scipy>=1.1.0 in /usr/local/lib/python3.7/dist-packages (from scikit-learn) (1.4.1)\n",
            "Requirement already satisfied: joblib>=0.11 in /usr/local/lib/python3.7/dist-packages (from scikit-learn) (1.1.0)\n",
            "Requirement already satisfied: threadpoolctl>=2.0.0 in /usr/local/lib/python3.7/dist-packages (from scikit-learn) (3.1.0)\n",
            "Requirement already satisfied: cycler>=0.10 in /usr/local/lib/python3.7/dist-packages (from matplotlib) (0.11.0)\n",
            "Requirement already satisfied: python-dateutil>=2.1 in /usr/local/lib/python3.7/dist-packages (from matplotlib) (2.8.2)\n",
            "Requirement already satisfied: pyparsing!=2.0.4,!=2.1.2,!=2.1.6,>=2.0.1 in /usr/local/lib/python3.7/dist-packages (from matplotlib) (3.0.7)\n",
            "Requirement already satisfied: kiwisolver>=1.0.1 in /usr/local/lib/python3.7/dist-packages (from matplotlib) (1.3.2)\n",
            "Requirement already satisfied: six>=1.5 in /usr/local/lib/python3.7/dist-packages (from python-dateutil>=2.1->matplotlib) (1.15.0)\n"
          ]
        }
      ],
      "source": [
        "# Installing Pillow Libraries\n",
        "!pip install scikit-learn matplotlib Pillow"
      ]
    },
    {
      "cell_type": "code",
      "execution_count": 2,
      "id": "automated-neighbor",
      "metadata": {
        "id": "automated-neighbor"
      },
      "outputs": [],
      "source": [
        "import numpy as np\n",
        "import os\n",
        "from random import randrange\n",
        "from matplotlib import pyplot as plt\n",
        "from PIL import Image"
      ]
    },
    {
      "cell_type": "markdown",
      "id": "agricultural-expression",
      "metadata": {
        "id": "agricultural-expression"
      },
      "source": [
        "## Load Data"
      ]
    },
    {
      "cell_type": "code",
      "execution_count": 3,
      "id": "suitable-powder",
      "metadata": {
        "id": "suitable-powder"
      },
      "outputs": [],
      "source": [
        "cfw_dict = {\n",
        "    'Amitabhbachan': 0,\n",
        "    'AamirKhan': 1,\n",
        "    'DwayneJohnson': 2,\n",
        "    'AishwaryaRai': 3,\n",
        "    'BarackObama': 4,\n",
        "    'NarendraModi': 5,\n",
        "    'ManmohanSingh': 6,\n",
        "    'VladimirPutin': 7\n",
        "}\n",
        "\n",
        "opt = {\n",
        "    'image_size': 32,\n",
        "    'is_grayscale': False,\n",
        "    'val_split': 0.75\n",
        "}"
      ]
    },
    {
      "cell_type": "code",
      "execution_count": 4,
      "id": "lucky-brazil",
      "metadata": {
        "id": "lucky-brazil"
      },
      "outputs": [],
      "source": [
        "def load_image(path):\n",
        "    im = Image.open(path).convert('L' if opt['is_grayscale'] else 'RGB')\n",
        "    im = im.resize((opt['image_size'],opt['image_size']))\n",
        "    im = np.array(im)\n",
        "    im = im/256\n",
        "    return im\n",
        "\n",
        "def display_images(imgs,classes,row=1,col=2,w=32,h=32):\n",
        "    fig=plt.figure(figsize=(8, 8))\n",
        "    for i in range(1, col*row +1):\n",
        "        img = imgs[i-1]\n",
        "        fig.add_subplot(row, col, i)\n",
        "        \n",
        "        if opt['is_grayscale']:\n",
        "            plt.imshow(img , cmap='gray') \n",
        "        else:\n",
        "            plt.imshow(img)\n",
        "        \n",
        "        plt.title(\"Class:{}\".format(classes[i-1]))\n",
        "        plt.axis('off')\n",
        "    plt.show()\n",
        "\n",
        "def load_data(dir_path):\n",
        "    image_list = []\n",
        "    y_list = []\n",
        "    label_dict = cfw_dict\n",
        "    for filename in sorted(os.listdir(dir_path)):\n",
        "        if filename.endswith(\".png\"):\n",
        "            im = load_image(os.path.join(dir_path,filename))\n",
        "            y = filename.split('_')[0]\n",
        "            y = label_dict[y] \n",
        "            image_list.append(im)\n",
        "            y_list.append(y)\n",
        "        else:\n",
        "            continue\n",
        "    image_list = np.array(image_list)\n",
        "    y_list = np.array(y_list)\n",
        "    print(\"Dataset shape:\",image_list.shape)\n",
        "    print(\"Label shape:\",y_list.shape)\n",
        "\n",
        "    return image_list,y_list"
      ]
    },
    {
      "cell_type": "code",
      "execution_count": 5,
      "id": "ceramic-michigan",
      "metadata": {
        "id": "ceramic-michigan",
        "outputId": "fd9807aa-cc2d-414a-d540-47eae9308735",
        "colab": {
          "base_uri": "https://localhost:8080/"
        }
      },
      "outputs": [
        {
          "output_type": "stream",
          "name": "stdout",
          "text": [
            "Dataset shape: (672, 32, 32, 3)\n",
            "Label shape: (672,)\n"
          ]
        }
      ],
      "source": [
        "dirpath = './IIIT-CFW/'\n",
        "X,y = load_data(dirpath)"
      ]
    },
    {
      "cell_type": "code",
      "execution_count": 6,
      "id": "colored-lafayette",
      "metadata": {
        "id": "colored-lafayette",
        "outputId": "e89d305b-9e8f-4299-b300-b2ba00f172a4",
        "colab": {
          "base_uri": "https://localhost:8080/",
          "height": 415
        }
      },
      "outputs": [
        {
          "output_type": "display_data",
          "data": {
            "image/png": "[encoded data removed]",
            "text/plain": [
              "<Figure size 576x576 with 6 Axes>"
            ]
          },
          "metadata": {
            "needs_background": "light"
          }
        }
      ],
      "source": [
        "N,H,W = X.shape[0:3]\n",
        "C = 1 if opt['is_grayscale'] else X.shape[3]\n",
        "\n",
        "ind = np.random.randint(0,y.shape[0],6)\n",
        "display_images(X[ind,...],y[ind], row=2,col=3)"
      ]
    },
    {
      "cell_type": "markdown",
      "id": "removed-guarantee",
      "metadata": {
        "id": "removed-guarantee"
      },
      "source": [
        "## Dimensionality Reduction\n",
        "- Plot eigen spectrum for the data.\n",
        "\n",
        "Percentage of variance preserved is defined as the fraction of eigen values used. As we include more principal components to describe the data, the percentage of variances preserved under the dimensionality reduction increases. \n",
        "\n",
        "- Plot the percentage of variances vs the number of principal components to validate the above statement.\n",
        "- Try visualizing these eigen vectors. Comment on what these ghost faces represent \n",
        "- Try reconstructing images with your choice of number of principal components and visualize the reconstructed image.\n",
        "\n",
        "Let's define reconstruction error as the frobenius norm of the difference between original and reconstructed image. \n",
        "\n",
        "- Plot the number of principal components vs the corresponding reconstruction error for 5 selected number of principal components of your choice.\n",
        "- Using the two dominant principal values, plot the data with colors showing the labels. What do you observe?\n"
      ]
    },
    {
      "cell_type": "markdown",
      "id": "naughty-adelaide",
      "metadata": {
        "id": "naughty-adelaide"
      },
      "source": [
        "#### Write a function that gives eigen values and eigen vectors given data"
      ]
    },
    {
      "cell_type": "code",
      "execution_count": 36,
      "id": "minus-theta",
      "metadata": {
        "id": "minus-theta"
      },
      "outputs": [],
      "source": [
        "# write function\n",
        "from numpy.linalg import eigh\n",
        "X_reshape = X.reshape((672,3072))\n",
        "mean = np.mean(X_reshape, axis=0)\n",
        "cfv = X_reshape-mean\n",
        "e_values, e_vectors = eigh(np.matmul(cfv.T, cfv))"
      ]
    },
    {
      "cell_type": "code",
      "source": [
        "plt.imshow(X_reshape[0].reshape((32, 32, 3)))"
      ],
      "metadata": {
        "colab": {
          "base_uri": "https://localhost:8080/",
          "height": 283
        },
        "id": "62agFe74mzuM",
        "outputId": "1d0ff420-9534-4697-c7d5-e2af24bef390"
      },
      "id": "62agFe74mzuM",
      "execution_count": 29,
      "outputs": [
        {
          "output_type": "execute_result",
          "data": {
            "text/plain": [
              "<matplotlib.image.AxesImage at 0x7fe9150647d0>"
            ]
          },
          "metadata": {},
          "execution_count": 29
        },
        {
          "output_type": "display_data",
          "data": {
            "image/png": "[encoded data removed]",
            "text/plain": [
              "<Figure size 432x288 with 1 Axes>"
            ]
          },
          "metadata": {
            "needs_background": "light"
          }
        }
      ]
    },
    {
      "cell_type": "code",
      "source": [
        "pairs = [(e_values[i], e_vectors[i]) for i in range(len(e_values))]\n",
        "pairs.sort(reverse=True)\n",
        "k = 0\n",
        "total = np.sum(e_values)\n",
        "sum = 0\n",
        "for i in range(len(pairs)):\n",
        "  sum += pairs[i][0]\n",
        "  k+=1\n",
        "  if(sum/total > 0.999999):\n",
        "    break\n",
        "k"
      ],
      "metadata": {
        "colab": {
          "base_uri": "https://localhost:8080/"
        },
        "id": "dPTK10dshvBZ",
        "outputId": "aac46937-c6c8-475c-885e-0ad84ac46667"
      },
      "id": "dPTK10dshvBZ",
      "execution_count": 45,
      "outputs": [
        {
          "output_type": "execute_result",
          "data": {
            "text/plain": [
              "671"
            ]
          },
          "metadata": {},
          "execution_count": 45
        }
      ]
    },
    {
      "cell_type": "code",
      "source": [
        "#k = 3072\n",
        "l = [pairs[i][1] for i in range(k)] # k x 3072\n",
        "l = np.array(l)\n",
        "e = np.matmul(l, cfv.T) #k x n matrix\n",
        "f = np.matmul(l.T, e)\n",
        "f.shape"
      ],
      "metadata": {
        "colab": {
          "base_uri": "https://localhost:8080/"
        },
        "id": "DYlihbe9kCE8",
        "outputId": "885800d5-1261-4fdc-ea2a-2fbda5141e4a"
      },
      "id": "DYlihbe9kCE8",
      "execution_count": 46,
      "outputs": [
        {
          "output_type": "execute_result",
          "data": {
            "text/plain": [
              "(3072, 672)"
            ]
          },
          "metadata": {},
          "execution_count": 46
        }
      ]
    },
    {
      "cell_type": "markdown",
      "id": "identified-weight",
      "metadata": {
        "id": "identified-weight"
      },
      "source": [
        "#### Compute eigen values and plot eigen value spectrum"
      ]
    },
    {
      "cell_type": "code",
      "execution_count": null,
      "id": "right-turning",
      "metadata": {
        "id": "right-turning"
      },
      "outputs": [],
      "source": [
        "# eigen values and spectrum"
      ]
    },
    {
      "cell_type": "markdown",
      "id": "silent-fitness",
      "metadata": {
        "id": "silent-fitness"
      },
      "source": [
        "#### Plot the percentage of variances vs the number of principal components"
      ]
    },
    {
      "cell_type": "code",
      "execution_count": null,
      "id": "given-violence",
      "metadata": {
        "id": "given-violence"
      },
      "outputs": [],
      "source": [
        "# plot variance vs components"
      ]
    },
    {
      "cell_type": "markdown",
      "id": "handy-affiliation",
      "metadata": {
        "id": "handy-affiliation"
      },
      "source": [
        "#### Visualize eigen faces(eigen vectors)"
      ]
    },
    {
      "cell_type": "code",
      "execution_count": null,
      "id": "wicked-malta",
      "metadata": {
        "id": "wicked-malta",
        "outputId": "ed92d317-4093-4a6d-8b45-09e87fdb99c8"
      },
      "outputs": [
        {
          "data": {
            "text/plain": [
              "\"\\nUse the below sample code to visualize the eigen faces and reconstructed images (can write your own function as well)\\n\\ndef plot(image,H,W,C,indices):\\n    #indices = [randrange(100)+1 for i in range(5)]\\n    pl = np.reshape(image.T,(-1,H,W,C))\\n    plt.figure(figsize=(25,25))\\n    for c,i in enumerate(indices):\\n        ele = pl[i]\\n        minim = np.min(ele)\\n        maxim = np.max(ele)\\n        ele = (ele - minim) / (maxim - minim)\\n        ele = np.clip(ele,0,254)\\n        plt.subplot(1,12,c+1)\\n        plt.axis('off')\\n        plt.imshow(ele,cmap=plt.cm.gray)\\n    plt.show()\\n\\nindices = [randrange(12)+1 for i in range(5)]\\nplot(eig_vecs,H,W,C, indices)\\n\""
            ]
          },
          "execution_count": 10,
          "metadata": {},
          "output_type": "execute_result"
        }
      ],
      "source": [
        "\"\"\"\n",
        "Use the below sample code to visualize the eigen faces and reconstructed images (can write your own function as well)\n",
        "\n",
        "def plot(image,H,W,C,indices):\n",
        "    #indices = [randrange(100)+1 for i in range(5)]\n",
        "    pl = np.reshape(image.T,(-1,H,W,C))\n",
        "    plt.figure(figsize=(25,25))\n",
        "    for c,i in enumerate(indices):\n",
        "        ele = pl[i]\n",
        "        minim = np.min(ele)\n",
        "        maxim = np.max(ele)\n",
        "        ele = (ele - minim) / (maxim - minim)\n",
        "        ele = np.clip(ele,0,254)\n",
        "        plt.subplot(1,12,c+1)\n",
        "        plt.axis('off')\n",
        "        plt.imshow(ele,cmap=plt.cm.gray)\n",
        "    plt.show()\n",
        "\n",
        "indices = [randrange(12)+1 for i in range(5)]\n",
        "plot(eig_vecs,H,W,C, indices)\n",
        "\"\"\""
      ]
    },
    {
      "cell_type": "markdown",
      "id": "current-classification",
      "metadata": {
        "id": "current-classification"
      },
      "source": [
        "#### Reconstruction "
      ]
    },
    {
      "cell_type": "code",
      "execution_count": null,
      "id": "sacred-luxembourg",
      "metadata": {
        "id": "sacred-luxembourg"
      },
      "outputs": [],
      "source": [
        "# reconstruction"
      ]
    },
    {
      "cell_type": "markdown",
      "id": "fluid-venice",
      "metadata": {
        "id": "fluid-venice"
      },
      "source": [
        "#### Plot data in 2D"
      ]
    },
    {
      "cell_type": "code",
      "execution_count": 47,
      "id": "exempt-terrace",
      "metadata": {
        "id": "exempt-terrace",
        "colab": {
          "base_uri": "https://localhost:8080/",
          "height": 196
        },
        "outputId": "f0329307-7ac9-4271-9b77-f9f60cbb3fff"
      },
      "outputs": [
        {
          "output_type": "stream",
          "name": "stderr",
          "text": [
            "Clipping input data to the valid range for imshow with RGB data ([0..1] for floats or [0..255] for integers).\n",
            "Clipping input data to the valid range for imshow with RGB data ([0..1] for floats or [0..255] for integers).\n",
            "Clipping input data to the valid range for imshow with RGB data ([0..1] for floats or [0..255] for integers).\n",
            "Clipping input data to the valid range for imshow with RGB data ([0..1] for floats or [0..255] for integers).\n",
            "Clipping input data to the valid range for imshow with RGB data ([0..1] for floats or [0..255] for integers).\n"
          ]
        },
        {
          "output_type": "display_data",
          "data": {
            "image/png": "[encoded data removed]",
            "text/plain": [
              "<Figure size 432x288 with 5 Axes>"
            ]
          },
          "metadata": {
            "needs_background": "light"
          }
        }
      ],
      "source": [
        "# plot data in 2D\n",
        "trf = f.T\n",
        "images = [(i+mean).reshape((32, 32, 3)) for i in trf]\n",
        "fig = plt.figure()\n",
        "\n",
        "for i in range(len(images[:5])):\n",
        "  fig.add_subplot(1, 5, i+1)\n",
        "  plt.imshow(images[i])\n",
        "  \n",
        "plt.show()"
      ]
    },
    {
      "cell_type": "markdown",
      "id": "animal-double",
      "metadata": {
        "id": "animal-double"
      },
      "source": [
        "## Lets analyze the principal components classwise\n",
        "- Visualize dominant eigen faces of each of the classes.\n",
        "- Print the number of principal components required to retain 90% variance for each of the classes and for the entire dataset\n",
        "- Are the number of components same for entire dataset and each of the classes. If yes why? If not why?\n",
        "\n",
        "Example output:\n",
        "```\n",
        "Number of principal components required for 90% reconstruction of the:\n",
        "Entire Dataset = 10 \n",
        "Amitabhbachan = 10\n",
        "AamirKhan = 10\n",
        "...\n",
        "```"
      ]
    },
    {
      "cell_type": "code",
      "execution_count": null,
      "id": "composed-administration",
      "metadata": {
        "id": "composed-administration",
        "outputId": "3bdeac71-6dab-46d9-f498-da645cab7fce"
      },
      "outputs": [
        {
          "name": "stdout",
          "output_type": "stream",
          "text": [
            "Dataset shape: (672, 32, 32, 3)\n",
            "Label shape: (672,)\n"
          ]
        }
      ],
      "source": [
        "# Load data again\n",
        "X,y = load_data(dirpath)"
      ]
    },
    {
      "cell_type": "markdown",
      "id": "exact-pathology",
      "metadata": {
        "id": "exact-pathology"
      },
      "source": [
        "#### Visualize dominant eigen faces of each of the classes"
      ]
    },
    {
      "cell_type": "code",
      "execution_count": null,
      "id": "damaged-glucose",
      "metadata": {
        "id": "damaged-glucose"
      },
      "outputs": [],
      "source": [
        "# visualize"
      ]
    },
    {
      "cell_type": "markdown",
      "id": "received-branch",
      "metadata": {
        "id": "received-branch"
      },
      "source": [
        "#### Number of principal components required to retain 90% variance for each of the classes and for the entire dataset"
      ]
    },
    {
      "cell_type": "code",
      "execution_count": null,
      "id": "transparent-passion",
      "metadata": {
        "id": "transparent-passion"
      },
      "outputs": [],
      "source": [
        "# components required"
      ]
    },
    {
      "cell_type": "markdown",
      "id": "offshore-allocation",
      "metadata": {
        "id": "offshore-allocation"
      },
      "source": [
        "#### Analysis : Are the number of components same for entire dataset and each of the classes. If yes why? If not why?"
      ]
    },
    {
      "cell_type": "code",
      "execution_count": null,
      "id": "matched-defeat",
      "metadata": {
        "id": "matched-defeat"
      },
      "outputs": [],
      "source": [
        "# observation/analysis"
      ]
    },
    {
      "cell_type": "markdown",
      "id": "minimal-clock",
      "metadata": {
        "id": "minimal-clock"
      },
      "source": [
        "## Linear Regression (continued)\n",
        "1. Perform linear regression on below datapoints\n",
        "2. Use PCA for dimensionality reduction on this datapoints and then perform Linear regression.\n",
        "3. Perform this experiment on different number of components and report the score for linear regression. Plot the graph of [1-200] principal components vs regression score. What do you observe?\n",
        "\n",
        "Note :- Can use inbuilt functions for Linear Regression and PCA for this question"
      ]
    },
    {
      "cell_type": "code",
      "execution_count": null,
      "id": "expanded-forwarding",
      "metadata": {
        "id": "expanded-forwarding",
        "outputId": "4e7e049d-bb7c-4b10-ec50-4f8cbe44263d"
      },
      "outputs": [
        {
          "name": "stdout",
          "output_type": "stream",
          "text": [
            "Dataset shape: (672, 32, 32, 3)\n",
            "Label shape: (672,)\n",
            "(672,)\n"
          ]
        }
      ],
      "source": [
        "# datapoints\n",
        "X,_ = load_data(dirpath)\n",
        "X = X.reshape((X.shape[0],-1))\n",
        "label = np.array([randrange((32*32*3)) for i in range(5)])\n",
        "label = np.mean(X[:,label], axis = 1)\n",
        "print(label.shape)"
      ]
    },
    {
      "cell_type": "code",
      "execution_count": null,
      "id": "guided-bones",
      "metadata": {
        "id": "guided-bones"
      },
      "outputs": [],
      "source": [
        "# code here"
      ]
    },
    {
      "cell_type": "code",
      "execution_count": null,
      "id": "tracked-hundred",
      "metadata": {
        "id": "tracked-hundred"
      },
      "outputs": [],
      "source": [
        "# analysis / plot (split the cells if required)"
      ]
    }
  ],
  "metadata": {
    "kernelspec": {
      "display_name": "Python 3",
      "language": "python",
      "name": "python3"
    },
    "language_info": {
      "codemirror_mode": {
        "name": "ipython",
        "version": 3
      },
      "file_extension": ".py",
      "mimetype": "text/x-python",
      "name": "python",
      "nbconvert_exporter": "python",
      "pygments_lexer": "ipython3",
      "version": "3.8.5"
    },
    "colab": {
      "name": "2019101109_Assignment2_Q3.ipynb",
      "provenance": []
    }
  },
  "nbformat": 4,
  "nbformat_minor": 5
}